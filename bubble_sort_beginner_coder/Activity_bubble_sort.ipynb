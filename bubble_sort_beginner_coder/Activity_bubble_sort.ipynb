{
 "cells": [
  {
   "cell_type": "markdown",
   "metadata": {},
   "source": [
    "# Bubble Sorting"
   ]
  },
  {
   "cell_type": "markdown",
   "metadata": {},
   "source": [
    "---\n",
    "\n",
    "### **Objectives for Bubble Sort Activity**\n",
    "\n",
    "1. The engineer will be able to visualize how the Bubble Sort algorithm operates step-by-step through interactive tools or video demonstrations.\n",
    "\n",
    "2. The engineer will be able to practice pair coding using examples, writing comments to explain the algorithm's steps and reinforcing understanding through collaboration.\n",
    "\n",
    "3. The engineer will be able to use a trace table to track the state of the array throughout the sorting process, deepening their understanding of how each element moves during each iteration of Bubble Sort.\n",
    "\n",
    "4. The engineer will be able to implement a real-world scenario using Bubble Sort, connecting theoretical knowledge with practical coding application.\n",
    "\n",
    "5. The engineer will be able to approach problem-solving from a top-down perspective, breaking the problem into smaller tasks and incorporating Bubble Sort into the solution.\n",
    "\n",
    "6. The engineer will be able to calculate the theoretical time and space complexity of Bubble Sort by counting the number of comparisons and swaps, improving their understanding of algorithm efficiency.\n",
    "\n",
    "7. The engineer will be able to run Bubble Sort on various datasets, measure its time complexity, and compare the results with theoretical expectations to gain insights into its performance in real-world applications.\n",
    "\n",
    "8. The engineer will be able to reflect on the importance of algorithm memorization and idiomatic coding, focusing on readability, efficiency, and best practices in their programming work.\n",
    "\n",
    "---\n",
    "\n",
    "**Instructions** \n",
    "\n",
    "Work in pairs or small groups to discuss the questions and complete the activities. \n",
    "\n",
    "---"
   ]
  },
  {
   "cell_type": "markdown",
   "metadata": {},
   "source": [
    "Here are the definitions:\n",
    "\n",
    "**What is an Algorithm?**\n",
    "\n",
    "An algorithm is a set of instructions that is used to solve a specific problem or perform a particular task. It is a well-defined procedure that takes some input, processes it, and produces a corresponding output. Algorithms can be expressed in various forms, such as natural language, flowcharts, pseudocode, or programming languages.\n",
    "\n",
    "**What is a Sorting Algorithm?**\n",
    "\n",
    "A sorting algorithm is a type of algorithm that is used to arrange a list of items in a specific order, such as ascending or descending order. Sorting algorithms take a collection of data as input and produce a sorted collection as output. The goal of a sorting algorithm is to rearrange the data in a way that makes it easier to search, retrieve, or analyze.\n",
    "\n",
    "**What is Bubble Sort?**\n",
    "\n",
    "Bubble Sort is a simple sorting algorithm that works by repeatedly iterating through a list of items and swapping adjacent elements if they are in the wrong order. The algorithm continues to iterate through the list until no more swaps are needed, indicating that the list is sorted. Bubble Sort is a stable sorting algorithm, meaning that it preserves the order of equal elements, and it has a time complexity of O(n^2), making it less efficient than other sorting algorithms for large datasets. However, Bubble Sort is easy to implement and can be useful for small datasets or educational purposes."
   ]
  },
  {
   "cell_type": "markdown",
   "metadata": {},
   "source": [
    "()[] put a video illistrating bubble sort here"
   ]
  },
  {
   "cell_type": "markdown",
   "metadata": {},
   "source": [
    "**Activity: Marking Up Bubble Sort in Jupyter Notebook**\n",
    "\n",
    "**Objective:** To understand the step-by-step process of the Bubble Sort algorithm by marking up the code in a Jupyter Notebook.\n",
    "\n",
    "**Instructions:**\n",
    "\n",
    "Answer the following questions by marking up the code:\n",
    "\n",
    "**Docstring Questions:**\n",
    "\n",
    "1. What is the purpose of the `Args` section in the docstring?\n",
    "\n",
    "Your response here: \n",
    "\n",
    "2. What is the purpose of the `Returns` section in the docstring?\n",
    "\n",
    "Your response here: \n",
    "\n",
    "3. What is the purpose of the `Notes` section in the docstring?\n",
    "\n",
    "Your response here: \n",
    "\n",
    "4. What information does the docstring provide about the time complexity of the algorithm?\n",
    "\n",
    "Your response here: \n",
    "\n",
    "**Code Questions:**\n",
    "\n",
    "1. What is the purpose of the variable `n`? (Highlight or comment on the line where `n` is defined)\n",
    "\n",
    "Your response here: \n",
    "\n",
    "2. What is the outer loop (`for i in range(n-1)`) doing? (Comment on the loop to explain its purpose)\n",
    "\n",
    "Your response here: \n",
    "\n",
    "3. What is the inner loop (`for j in range(n-i-1)`) doing? (Comment on the loop to explain its purpose)\n",
    "\n",
    "Your response here: \n",
    "\n",
    "4. What is the condition `if arr[j] > arr[j+1]` checking? (Highlight or comment on the line to explain its purpose)\n",
    "\n",
    "Your response here: \n",
    "\n",
    "5. What happens when the condition `if arr[j] > arr[j+1]` is true? (Highlight or comment on the lines of code that are executed when the condition is true)\n",
    "\n",
    "Your response here: \n",
    "\n",
    "6. What is the purpose of the line `arr[j], arr[j+1] = arr[j+1], arr[j]`? (Comment on the line to explain its purpose)\n",
    "\n",
    "Your response here: \n"
   ]
  },
  {
   "cell_type": "markdown",
   "metadata": {},
   "source": [
    "**Instructions:**\n",
    "\n",
    "Mark up the code by adding comments to explain the purpose of each section of the code. You can use the following tools in Jupyter Notebook to mark up the code:\n",
    "\n",
    "\t* Comments: Use the `#` symbol to add comments to the code.\n",
    "\n",
    "Once you've marked up the code, run the cell to ensure that the code still works as expected.\n",
    "\n",
    "**Example Marked-Up Code:**\n",
    "```python\n",
    "def bubble_sort(arr):  # Define the Bubble Sort function\n",
    "    \"\"\"\n",
    "    Sorts an array in ascending order using the Bubble Sort algorithm.\n",
    "\n",
    "    Args:\n",
    "        arr (list): The input array to be sorted.\n",
    "\n",
    "    Returns:\n",
    "        list: The sorted array.\n",
    "\n",
    "    Notes:\n",
    "        This implementation has a time complexity of O(n^2) in the worst case.\n",
    "    \"\"\"\n",
    "    n = len(arr)  # Define the length of the input array\n",
    "\n",
    "    # Outer loop: Repeat the process n-1 times\n",
    "    for i in range(n-1):\n",
    "        # Inner loop: Compare each element with its adjacent element\n",
    "        for j in range(n-i-1):\n",
    "            # Check if the current element is greater than the next element\n",
    "            if arr[j] > arr[j+1]:  # Highlight this line to show the comparison\n",
    "                # Swap the elements if the condition is true\n",
    "                arr[j], arr[j+1] = arr[j+1], arr[j]  # Highlight this line to show the swap\n",
    "\n",
    "    return arr  # Return the sorted array\n",
    "```"
   ]
  },
  {
   "cell_type": "code",
   "execution_count": 1,
   "metadata": {},
   "outputs": [],
   "source": [
    "# Use comments (#) to annotate important aspect of the bubble sort algopithm here:  \n",
    "\n",
    "def bubble_sort(arr):\n",
    "    \"\"\"\n",
    "    Sorts an array in ascending order using the Bubble Sort algorithm.\n",
    "\n",
    "    Args:\n",
    "        arr (list): The input array to be sorted.\n",
    "\n",
    "    Returns:\n",
    "        list: The sorted array.\n",
    "\n",
    "    Notes:\n",
    "        This implementation has a time complexity of O(n^2) in the worst case.\n",
    "    \"\"\"\n",
    "    n = len(arr)\n",
    "\n",
    "    for i in range(n-1):\n",
    "        for j in range(n-i-1):\n",
    "            if arr[j] > arr[j+1]:\n",
    "                arr[j], arr[j+1] = arr[j+1], arr[j]\n",
    "\n",
    "    return arr\n"
   ]
  },
  {
   "cell_type": "markdown",
   "metadata": {},
   "source": [
    "---\n",
    "---"
   ]
  },
  {
   "cell_type": "markdown",
   "metadata": {},
   "source": [
    "2. **Visualize Bubble Sort through Pair Coding with Examples**:\n",
    "   - Engineers will be able to practice pair coding using examples such as `[2, 3, 5, 7, 9]`, writing comments to explain the algorithm's steps and reinforcing understanding through collaboration.\n",
    "\n",
    "(Activity 2) Use the chart to answer questions about bubble sort"
   ]
  },
  {
   "cell_type": "markdown",
   "metadata": {},
   "source": [
    "---\n",
    "---"
   ]
  },
  {
   "cell_type": "markdown",
   "metadata": {},
   "source": [
    "3. **Visualize Bubble Sort with a Trace Table**:\n",
    "   - Engineers will be able to use a trace table to track the state of the array throughout the sorting process, which will deepen their understanding of how each element moves during each iteration of Bubble Sort."
   ]
  },
  {
   "cell_type": "markdown",
   "metadata": {},
   "source": [
    "---\n",
    "---"
   ]
  },
  {
   "cell_type": "markdown",
   "metadata": {},
   "source": [
    "4. **Code a Real-World Application Using Bubble Sort**:\n",
    "   - Engineers will be able to implement a real-world scenario using Bubble Sort, connecting theoretical knowledge with practical coding application.\n",
    "   \n",
    "   4a. **Practice Top-Down Programming**:\n",
    "      - Engineers will be able to approach problem-solving from a top-down perspective, breaking the problem into smaller tasks and incorporating Bubble Sort into the solution.\n",
    "\n",
    "   4b. **Practice Pair Programming**:\n",
    "      - Engineers will be able to collaborate effectively with a partner, sharing coding responsibilities and ideas while using Bubble Sort to solve problems together.\n",
    "\n",
    "(Activity 3) Pair Code a Leet Code Problem Start by breaking down the problem into high level steps (top Down) - Write test cases for this - \"Real world\""
   ]
  },
  {
   "cell_type": "markdown",
   "metadata": {},
   "source": [
    "---\n",
    "---"
   ]
  },
  {
   "cell_type": "markdown",
   "metadata": {},
   "source": [
    "5. **Determine Time and Space Complexity of Bubble Sort by Counting Operations**:\n",
    "   - Engineers will be able to calculate the theoretical time and space complexity of Bubble Sort by counting the number of comparisons and swaps, improving their understanding of algorithm efficiency.\n",
    "\n",
    "(activity 4) Determining Time and Space Complexity of Bubble Sort by Counting Operations (theoretical/ done in a vaccum)"
   ]
  },
  {
   "cell_type": "markdown",
   "metadata": {},
   "source": [
    "---\n",
    "---"
   ]
  },
  {
   "cell_type": "markdown",
   "metadata": {},
   "source": [
    "6. **Explore Time Complexity in Bubble Sort Experimentally**:\n",
    "   - Engineers will be able to run Bubble Sort on various datasets, measure its time complexity, and compare the results with theoretical expectations to gain insights into its performance in real-world applications.\n",
    "\n",
    "(activity 5) Exploring Time Complexity in Bubble Sort (experiemental) using tools in IUD environment "
   ]
  },
  {
   "cell_type": "markdown",
   "metadata": {},
   "source": [
    "---\n",
    "---"
   ]
  },
  {
   "cell_type": "markdown",
   "metadata": {},
   "source": [
    "7. **Calculate Time and Space Complexity in a Real-World Application**:\n",
    "   - Engineers will be able to apply Bubble Sort to a real-world application, calculating and analyzing its actual time and space complexity, bridging the gap between theory and practice.\n",
    "\n",
    "talk about use case and compare with other algorithms using a graph "
   ]
  },
  {
   "cell_type": "markdown",
   "metadata": {},
   "source": [
    "---\n",
    "---"
   ]
  },
  {
   "cell_type": "markdown",
   "metadata": {},
   "source": [
    "8. **Reflect on Algorithm Memorization and Idiomatic Coding**:\n",
    "   - Engineers will be able to answer questions about the necessity of memorizing algorithms in specific programming languages and reflect on what it means to write idiomatic (e.g., Pythonic) code, focusing on readability, efficiency, and best practices.\n",
    "\n",
    "(Activity 6) Should I memorize algorithms in specific languages I say I know/ If I say I know a language, what does that mean? Contrasting bubble sort idioms in specified languages"
   ]
  },
  {
   "cell_type": "markdown",
   "metadata": {},
   "source": [
    "---\n",
    "---"
   ]
  },
  {
   "cell_type": "markdown",
   "metadata": {},
   "source": [
    "Can people leave with a portfolio piece?: activity they (1) have a link for (2) is well structured & readable (3) they can talk through (4) is their own work "
   ]
  },
  {
   "cell_type": "markdown",
   "metadata": {},
   "source": [
    "---\n",
    "---"
   ]
  },
  {
   "cell_type": "markdown",
   "metadata": {},
   "source": [
    "### **Summary: What to Memorize vs. What to Know**\n",
    "- **Memorize**:\n",
    "  - Time complexity: Best-case \\(O(n)\\), worst/average-case \\(O(n^2)\\).\n",
    "  - Space complexity: \\(O(1)\\) (in-place sorting).\n",
    "  - Basic pseudocode or the logic behind the implementation.\n",
    "\n",
    "- **Know Deeply**:\n",
    "  - How Bubble Sort works (step-by-step mechanics).\n",
    "  - When and why not to use Bubble Sort in real-world applications.\n",
    "  - Its limitations in terms of performance, particularly compared to more advanced sorting algorithms."
   ]
  }
 ],
 "metadata": {
  "kernelspec": {
   "display_name": "Python (myenv)",
   "language": "python",
   "name": "myenv"
  },
  "language_info": {
   "codemirror_mode": {
    "name": "ipython",
    "version": 3
   },
   "file_extension": ".py",
   "mimetype": "text/x-python",
   "name": "python",
   "nbconvert_exporter": "python",
   "pygments_lexer": "ipython3",
   "version": "3.12.1"
  }
 },
 "nbformat": 4,
 "nbformat_minor": 2
}
