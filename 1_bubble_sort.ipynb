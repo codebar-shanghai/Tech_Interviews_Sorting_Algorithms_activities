{
 "cells": [
  {
   "cell_type": "markdown",
   "metadata": {},
   "source": [
    "# Bubble Sorting: What you need to know and what you need to memorize"
   ]
  },
  {
   "cell_type": "markdown",
   "metadata": {},
   "source": [
    "1. What you need to know and what you need to memorize > look at/ read through 0 and readme (each sort ipynb file goes through this info for each algorithm) < say this in the objective >\n",
    "\n",
    "2. Determining Time and Space Complexity of Bubble Sort by Counting Operations (theoretical/ done in a vaccum) << Good activity idea >>\n",
    "3. Exploring Time Complexity in Bubble Sort (experiemental) << Good activity idea >>\n",
    "\n",
    "4. visualizing when pair coding using comments and examples like: [2, 3, 5, 7, 9] << this is applicable to theme >>\n",
    "5. visualizing with Trace Table << this is useful for begginers >>\n",
    "\n",
    "6. code a real world application using bubble sort << Good activity idea >>\n",
    "\n",
    "7. Should I memorize algorithms in specific languages I say I know/ If I say I know a language, what does that mean? << this is applicable to theme >>\n",
    "\n",
    "8. pratice top down programming << this is applicable to theme >>\n",
    "9. practice pair programming << this is applicable to theme >>\n",
    "\n",
    "10. Can people leave with a portfolio piece? "
   ]
  },
  {
   "cell_type": "markdown",
   "metadata": {},
   "source": [
    "rule 1: when you make a mistake. Stop and write a paragraph answering: what you got wrong. The misunderstanding you had, and what is the corrected way of thinking about it in your own words \n",
    "\n",
    "How can I make this less like answer questions and more like a game? \n",
    "\n",
    "1. (Activity 1) here's the sudo code, mark it up with an example! (how can people check this? sanity checks?) (Pair Code this). Then fill in the tracing table which is partially done for you \n",
    "\n",
    "2. (Activity 2) Use the chart to answer questions about bubble sort \n",
    "\n",
    "3. (Activity 3) Pair Code a Leet Code Problem Start by breaking down the problem into high level steps (top Down) - Write test cases for this - \"Real world\"\n",
    "\n",
    "4. (activity 4) Determining Time and Space Complexity of Bubble Sort by Counting Operations (theoretical/ done in a vaccum) << Good activity idea >>\n",
    "5. (activity 5) Exploring Time Complexity in Bubble Sort (experiemental) << Good activity idea >>\n",
    "\n",
    "6. (Activity 6) Should I memorize algorithms in specific languages I say I know/ If I say I know a language, what does that mean? << this is applicable to theme >> Practice comparing and contrasting bubble sort idioms in specified languages \n",
    "\n",
    "7. Can people leave with a portfolio piece?: activity they (1) have a link for (2) is well structured & readable (3) they can talk through (4) is their own work \n",
    "\n"
   ]
  },
  {
   "cell_type": "code",
   "execution_count": null,
   "metadata": {
    "vscode": {
     "languageId": "plaintext"
    }
   },
   "outputs": [],
   "source": []
  },
  {
   "cell_type": "markdown",
   "metadata": {},
   "source": [
    "1. watch this visualization: \n",
    "\n",
    "2. model how bubble sort works using a small data set \n",
    "\n",
    "Compare elements a position 0 and 1. Replace if needed: \n",
    "\n",
    "Step 1 -> [2, 7, 4]  compare 2 and 7, no swap \n",
    "\n",
    "Step 2 -> [2, 4, 7]  compare 7 and 4, swap\n",
    "\n",
    "[]\n",
    "\n",
    "3. model how bubble sort works using trace table/ dry run table\n",
    "\n",
    "4. practice pair coding and answer the questions below: (one person is typing and the other person is talking through the answers)"
   ]
  },
  {
   "cell_type": "markdown",
   "metadata": {},
   "source": [
    "1. How Bubble Sort Works (Understanding the Algorithm)\n",
    "\n"
   ]
  },
  {
   "cell_type": "markdown",
   "metadata": {},
   "source": [
    "2. Time and Space Complexity (What You Need to Memorize)"
   ]
  },
  {
   "cell_type": "markdown",
   "metadata": {},
   "source": [
    "3. Strengths and Weaknesses (What to Understand Deeply)"
   ]
  },
  {
   "cell_type": "markdown",
   "metadata": {},
   "source": [
    "4. When to Use Bubble Sort (Practical Knowledge)"
   ]
  },
  {
   "cell_type": "markdown",
   "metadata": {},
   "source": [
    "### **Summary: What to Memorize vs. What to Know**\n",
    "- **Memorize**:\n",
    "  - Time complexity: Best-case \\(O(n)\\), worst/average-case \\(O(n^2)\\).\n",
    "  - Space complexity: \\(O(1)\\) (in-place sorting).\n",
    "  - Basic pseudocode or the logic behind the implementation.\n",
    "\n",
    "- **Know Deeply**:\n",
    "  - How Bubble Sort works (step-by-step mechanics).\n",
    "  - When and why not to use Bubble Sort in real-world applications.\n",
    "  - Its limitations in terms of performance, particularly compared to more advanced sorting algorithms."
   ]
  },
  {
   "cell_type": "markdown",
   "metadata": {},
   "source": [
    "real world application of bubble sort"
   ]
  }
 ],
 "metadata": {
  "language_info": {
   "name": "python"
  }
 },
 "nbformat": 4,
 "nbformat_minor": 2
}
