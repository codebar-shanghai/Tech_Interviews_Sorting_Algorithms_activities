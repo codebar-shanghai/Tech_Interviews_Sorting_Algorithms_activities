{
 "cells": [
  {
   "cell_type": "markdown",
   "metadata": {},
   "source": [
    "1. Visualize with video/ interactive activity \n",
    "2. visualizing when pair coding using comments and examples like: [2, 3, 5, 7, 9] << this is applicable to theme >>\n",
    "3. visualizing with Trace Table << this is useful for begginers >>\n",
    "\n",
    "4. code a real world application using bubble sort << Good activity idea >>\n",
    "4a. pratice top down programming << this is applicable to theme >>\n",
    "4b. practice pair programming << this is applicable to theme >>\n",
    "\n",
    "5. Determining Time and Space Complexity of Bubble Sort by Counting Operations (theoretical/ done in a vaccum) << Good activity idea >>\n",
    "6. Exploring Time Complexity in Bubble Sort (experiemental) << Good activity idea >>\n",
    "\n",
    "7. Calculate time/space complexity of code a real world application using bubble sort << Good activity idea >>\n",
    "\n",
    "8. Should I memorize algorithms in specific languages I say I know/ If I say I know a language, what does that mean? << this is applicable to theme >> - answer a few quesions on the idiomatic/pythonic"
   ]
  },
  {
   "cell_type": "markdown",
   "metadata": {},
   "source": [
    "\n",
    "\n",
    "How can I make this less like answer questions and more like a game? \n",
    "\n",
    "1. (Activity 1) here's the sudo code, mark it up with an example! (how can people check this? sanity checks?) (Pair Code this). Then fill in the tracing table which is partially done for you \n",
    "\n",
    "2. (Activity 2) Use the chart to answer questions about bubble sort \n",
    "\n",
    "3. (Activity 3) Pair Code a Leet Code Problem Start by breaking down the problem into high level steps (top Down) - Write test cases for this - \"Real world\"\n",
    "\n",
    "4. (activity 4) Determining Time and Space Complexity of Bubble Sort by Counting Operations (theoretical/ done in a vaccum) << Good activity idea >>\n",
    "5. (activity 5) Exploring Time Complexity in Bubble Sort (experiemental) << Good activity idea >>\n",
    "\n",
    "6. (Activity 6) Should I memorize algorithms in specific languages I say I know/ If I say I know a language, what does that mean? << this is applicable to theme >> Practice comparing and contrasting bubble sort idioms in specified languages \n",
    "\n",
    "7. Can people leave with a portfolio piece?: activity they (1) have a link for (2) is well structured & readable (3) they can talk through (4) is their own work \n",
    "\n",
    "Use python visualization library to help newbies keep pace with advanced individuals who don't need the visual aid \n",
    "workshop rules: laptops closed and put away during the presentation portion: why? there will be throwing of a ball. \n",
    "Where can you find people to help you practice these activities and pair coding on leet code when you're at home?"
   ]
  },
  {
   "cell_type": "markdown",
   "metadata": {},
   "source": [
    "2. **Visualize Bubble Sort through Pair Coding with Examples**:\n",
    "   - Engineers will be able to practice pair coding using examples such as `[2, 3, 5, 7, 9]`, writing comments to explain the algorithm's steps and reinforcing understanding through collaboration.\n",
    "\n",
    "(Activity 2) Use the chart to answer questions about bubble sort\n"
   ]
  }
 ],
 "metadata": {
  "language_info": {
   "name": "python"
  }
 },
 "nbformat": 4,
 "nbformat_minor": 2
}
