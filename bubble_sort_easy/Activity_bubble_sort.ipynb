{
 "cells": [
  {
   "cell_type": "markdown",
   "metadata": {},
   "source": [
    "# Bubble Sorting\n",
    "\n",
    "## An activity to learn/review what engineers need to know and memorize about Bubble Sort"
   ]
  },
  {
   "cell_type": "markdown",
   "metadata": {},
   "source": [
    "### **Objectives for Bubble Sort Activity**\n",
    "\n",
    "1. **Visualize the Bubble Sort Algorithm**:\n",
    "   - Engineers will be able to visualize how the Bubble Sort algorithm operates step-by-step through interactive tools or video demonstrations.\n",
    "\n",
    "2. **Visualize Bubble Sort through Pair Coding with Examples**:\n",
    "   - Engineers will be able to practice pair coding using examples such as `[2, 3, 5, 7, 9]`, writing comments to explain the algorithm's steps and reinforcing understanding through collaboration.\n",
    "\n",
    "3. **Visualize Bubble Sort with a Trace Table**:\n",
    "   - Engineers will be able to use a trace table to track the state of the array throughout the sorting process, which will deepen their understanding of how each element moves during each iteration of Bubble Sort.\n",
    "\n",
    "4. **Code a Real-World Application Using Bubble Sort**:\n",
    "   - Engineers will be able to implement a real-world scenario using Bubble Sort, connecting theoretical knowledge with practical coding application.\n",
    "\n",
    "   4a. **Practice Top-Down Programming**:\n",
    "      - Engineers will be able to approach problem-solving from a top-down perspective, breaking the problem into smaller tasks and incorporating Bubble Sort into the solution.\n",
    "\n",
    "   4b. **Practice Pair Programming**:\n",
    "      - Engineers will be able to collaborate effectively with a partner, sharing coding responsibilities and ideas while using Bubble Sort to solve problems together.\n",
    "\n",
    "5. **Determine Time and Space Complexity of Bubble Sort by Counting Operations**:\n",
    "   - Engineers will be able to calculate the theoretical time and space complexity of Bubble Sort by counting the number of comparisons and swaps, improving their understanding of algorithm efficiency.\n",
    "\n",
    "6. **Explore Time Complexity in Bubble Sort Experimentally**:\n",
    "   - Engineers will be able to run Bubble Sort on various datasets, measure its time complexity, and compare the results with theoretical expectations to gain insights into its performance in real-world applications.\n",
    "\n",
    "7. **Calculate Time and Space Complexity in a Real-World Application**:\n",
    "   - Engineers will be able to apply Bubble Sort to a real-world application, calculating and analyzing its actual time and space complexity, bridging the gap between theory and practice.\n",
    "\n",
    "8. **Reflect on Algorithm Memorization and Idiomatic Coding**:\n",
    "   - Engineers will be able to answer questions about the necessity of memorizing algorithms in specific programming languages and reflect on what it means to write idiomatic (e.g., Pythonic) code, focusing on readability, efficiency, and best practices.\n",
    "\n",
    "These objectives are designed to help engineers visualize, apply, and analyze the Bubble Sort algorithm while promoting best practices and collaboration in their programming work."
   ]
  },
  {
   "cell_type": "markdown",
   "metadata": {},
   "source": [
    "\n",
    "\n",
    "How can I make this less like answer questions and more like a game? \n",
    "\n",
    "1. (Activity 1) here's the sudo code, mark it up with an example! (how can people check this? sanity checks?) (Pair Code this). Then fill in the tracing table which is partially done for you \n",
    "\n",
    "2. (Activity 2) Use the chart to answer questions about bubble sort \n",
    "\n",
    "3. (Activity 3) Pair Code a Leet Code Problem Start by breaking down the problem into high level steps (top Down) - Write test cases for this - \"Real world\"\n",
    "\n",
    "4. (activity 4) Determining Time and Space Complexity of Bubble Sort by Counting Operations (theoretical/ done in a vaccum) << Good activity idea >>\n",
    "5. (activity 5) Exploring Time Complexity in Bubble Sort (experiemental) << Good activity idea >>\n",
    "\n",
    "6. (Activity 6) Should I memorize algorithms in specific languages I say I know/ If I say I know a language, what does that mean? << this is applicable to theme >> Practice comparing and contrasting bubble sort idioms in specified languages \n",
    "\n",
    "7. Can people leave with a portfolio piece?: activity they (1) have a link for (2) is well structured & readable (3) they can talk through (4) is their own work "
   ]
  },
  {
   "cell_type": "markdown",
   "metadata": {},
   "source": [
    "### **Summary: What to Memorize vs. What to Know**\n",
    "- **Memorize**:\n",
    "  - Time complexity: Best-case \\(O(n)\\), worst/average-case \\(O(n^2)\\).\n",
    "  - Space complexity: \\(O(1)\\) (in-place sorting).\n",
    "  - Basic pseudocode or the logic behind the implementation.\n",
    "\n",
    "- **Know Deeply**:\n",
    "  - How Bubble Sort works (step-by-step mechanics).\n",
    "  - When and why not to use Bubble Sort in real-world applications.\n",
    "  - Its limitations in terms of performance, particularly compared to more advanced sorting algorithms."
   ]
  }
 ],
 "metadata": {
  "kernelspec": {
   "display_name": "Python (myenv)",
   "language": "python",
   "name": "myenv"
  },
  "language_info": {
   "codemirror_mode": {
    "name": "ipython",
    "version": 3
   },
   "file_extension": ".py",
   "mimetype": "text/x-python",
   "name": "python",
   "nbconvert_exporter": "python",
   "pygments_lexer": "ipython3",
   "version": "3.12.1"
  }
 },
 "nbformat": 4,
 "nbformat_minor": 2
}
